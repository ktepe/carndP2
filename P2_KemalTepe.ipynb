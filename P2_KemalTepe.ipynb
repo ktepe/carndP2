{
 "cells": [
  {
   "cell_type": "markdown",
   "metadata": {},
   "source": [
    "# Project 2: Traffic Sign Classifier\n",
    "\n",
    "## Kemal Tepe, ketepe@gmail.com"
   ]
  },
  {
   "cell_type": "code",
   "execution_count": 1,
   "metadata": {
    "collapsed": true
   },
   "outputs": [],
   "source": [
    "# setup important imports and libs \n",
    "import pickle\n",
    "import matplotlib.pyplot as plt\n",
    "import random\n",
    "import pandas as pd\n",
    "import numpy as np\n",
    "import tensorflow as tf\n",
    "from sklearn.utils import shuffle\n",
    "from tensorflow.contrib.layers import flatten"
   ]
  },
  {
   "cell_type": "code",
   "execution_count": 2,
   "metadata": {
    "collapsed": true
   },
   "outputs": [],
   "source": [
    "# debug printing sections, 1 if they need printing\n",
    "debug_prt=1\n",
    "image_show=1\n",
    "%matplotlib inline"
   ]
  },
  {
   "cell_type": "code",
   "execution_count": 3,
   "metadata": {
    "collapsed": true
   },
   "outputs": [],
   "source": [
    "#utility function from RGB to Grayscale\n",
    "#\n",
    "def rgb2gray(input_data):\n",
    "    #below is weigths of RGB to Gray conversion from the literature\n",
    "    rgbmix=[0.3, 0.585, 0.115]\n",
    "    #\n",
    "    #below is equal weigths but above did worked better\n",
    "    #rgbmix=[0.333, 0.333, 0.334]\n",
    "    for i in range(len(input_data)):\n",
    "        image2=input_data[i,:,:,:]\n",
    "        input_data[i,:,:,0]=np.dot(image2[...,:3], rgbmix)\n",
    "\n",
    "    return input_data[:,:,:,0:1]\n",
    "\n",
    "#utilitity function Softmax\n",
    "def softmax(x):\n",
    "    \"\"\"Compute softmax values for each sets of scores in x.\"\"\"\n",
    "    e_x = np.exp(x - np.max(x))\n",
    "    return e_x / e_x.sum()\n",
    "\n"
   ]
  },
  {
   "cell_type": "code",
   "execution_count": 4,
   "metadata": {
    "collapsed": true
   },
   "outputs": [],
   "source": [
    "#my convolutional NN architecture. \n",
    "#it is derived from Lenet 5 architecture, \n",
    "#but optimized by using number of hidden nodes for the traffic sign clasification \n",
    "#\n",
    "def LeNet(x):    \n",
    "    # Arguments used for tf.truncated_normal, randomly defines variables for the weights and biases for each layer\n",
    "    mu = 0\n",
    "    sigma = 0.03 # hyperparameter for noise\n",
    "    #set up the number of nodes between the layers\n",
    "    w1nodes=48 # number of conv hidden nodes in the conv NN in the layer 1\n",
    "    w2nodes=96 # number of conv hidden nodes in the conv NN in the layer 2 \n",
    "    w3nodes=5*5*w2nodes #number of fully connected nodes in layer 3 and flattening \n",
    "    w4nodes=140 #number of fully connected nodes in layer 4\n",
    "    w5nodes=96 #number of fully connected nodes in Layer 5\n",
    "    outputnodes=43 #number of output nodes, since there are 43 signs in the data set.\n",
    "    \n",
    "    # SOLUTION: Layer 1: Convolutional. Input = 32x32x1. Output = 28x28x(w1nodes).\n",
    "    conv1_W = tf.Variable(tf.truncated_normal(shape=(5, 5, 1, w1nodes), mean = mu, stddev = sigma))\n",
    "    conv1_b = tf.Variable(tf.zeros(w1nodes))\n",
    "    conv1   = tf.nn.conv2d(x, conv1_W, strides=[1, 1, 1, 1], padding='VALID') + conv1_b\n",
    "\n",
    "    # SOLUTION: Activation.\n",
    "    #instead of RELU, i used ELU non-linear function\n",
    "    conv1 = tf.nn.elu(conv1)\n",
    "\n",
    "    # SOLUTION: Pooling. Input = 28x28x(w1nodes). Output = 14x14x(w1nodes).\n",
    "    conv1 = tf.nn.max_pool(conv1, ksize=[1, 2, 2, 1], strides=[1, 2, 2, 1], padding='VALID')\n",
    "\n",
    "    # SOLUTION: Layer 2: Convolutional. Output = 10x10x(w2nodes).\n",
    "    conv2_W = tf.Variable(tf.truncated_normal(shape=(5, 5, w1nodes, w2nodes), mean = mu, stddev = sigma))\n",
    "    conv2_b = tf.Variable(tf.zeros(w2nodes))\n",
    "    conv2   = tf.nn.conv2d(conv1, conv2_W, strides=[1, 1, 1, 1], padding='VALID') + conv2_b\n",
    "    \n",
    "    # SOLUTION: Activation.\n",
    "    conv2 = tf.nn.elu(conv2)\n",
    "\n",
    "    # SOLUTION: Pooling. Input = 10x10x1(w2nodes) Output = 5x5x(w2nodes).\n",
    "    conv2 = tf.nn.max_pool(conv2, ksize=[1, 2, 2, 1], strides=[1, 2, 2, 1], padding='VALID')\n",
    "\n",
    "    # SOLUTION: Flatten. Input = 5x5x(w2nodes). Output = w3nodes.\n",
    "    fc0   = flatten(conv2)\n",
    "    \n",
    "    # SOLUTION: Layer 3: Fully Connected. Input = w3nodes Output = w4nodes\n",
    "    \n",
    "    fc1_W = tf.Variable(tf.truncated_normal(shape=(w3nodes, w4nodes), mean = mu, stddev = sigma))\n",
    "    fc1_b = tf.Variable(tf.zeros(w4nodes))\n",
    "    fc1   = tf.matmul(fc0, fc1_W) + fc1_b\n",
    "    \n",
    "    # SOLUTION: Activation.\n",
    "    fc1    = tf.nn.elu(fc1)\n",
    "\n",
    "    # SOLUTION: Layer 4: Fully Connected. Input = w4nodes Output = w5nodes\n",
    "\n",
    "    fc2_W  = tf.Variable(tf.truncated_normal(shape=(w4nodes, w5nodes), mean = mu, stddev = sigma))\n",
    "    fc2_b  = tf.Variable(tf.zeros(w5nodes))\n",
    "    fc2    = tf.matmul(fc1, fc2_W) + fc2_b\n",
    "    \n",
    "    # SOLUTION: Activation.\n",
    "    fc2    = tf.nn.elu(fc2)\n",
    "\n",
    "    # SOLUTION: Layer 5: Fully Connected. Input = w5nodes Output = outputnodes.\n",
    "    \n",
    "    fc3_W  = tf.Variable(tf.truncated_normal(shape=(w5nodes, outputnodes), mean = mu, stddev = sigma))\n",
    "    fc3_b  = tf.Variable(tf.zeros(outputnodes))\n",
    "    logits = tf.matmul(fc2, fc3_W) + fc3_b\n",
    "    \n",
    "    return logits\n"
   ]
  },
  {
   "cell_type": "code",
   "execution_count": 5,
   "metadata": {
    "collapsed": true
   },
   "outputs": [],
   "source": [
    "#evaluation function\n",
    "def evaluate(X_data, y_data):\n",
    "    num_examples = len(X_data)\n",
    "    total_accuracy = 0\n",
    "    sess = tf.get_default_session()\n",
    "    for offset in range(0, num_examples, BATCH_SIZE):\n",
    "        batch_x, batch_y = X_data[offset:offset+BATCH_SIZE], y_data[offset:offset+BATCH_SIZE]\n",
    "        accuracy = sess.run(accuracy_operation, feed_dict={x: batch_x, y: batch_y})\n",
    "        total_accuracy += (accuracy * len(batch_x))\n",
    "    return total_accuracy / num_examples"
   ]
  },
  {
   "cell_type": "code",
   "execution_count": 6,
   "metadata": {
    "collapsed": false
   },
   "outputs": [],
   "source": [
    "#Reading the training, validation and testing data \n",
    "#stored in the subfolder \"traffic-signs-data\" folder\n",
    "training_file = './traffic-signs-data/train.p'\n",
    "validation_file='./traffic-signs-data/valid.p'\n",
    "testing_file = './traffic-signs-data/test.p'\n",
    "\n",
    "with open(training_file, mode='rb') as f:\n",
    "    train = pickle.load(f)\n",
    "with open(validation_file, mode='rb') as f:\n",
    "    valid = pickle.load(f)\n",
    "with open(testing_file, mode='rb') as f:\n",
    "    test = pickle.load(f)\n",
    "    \n",
    "X_train, y_train = train['features'], train['labels']\n",
    "X_valid, y_valid = valid['features'], valid['labels']\n",
    "X_test, y_test = test['features'], test['labels']"
   ]
  },
  {
   "cell_type": "code",
   "execution_count": 7,
   "metadata": {
    "collapsed": false
   },
   "outputs": [
    {
     "name": "stdout",
     "output_type": "stream",
     "text": [
      "Number of training examples = 34799\n",
      "Number of testing examples = 12630\n",
      "Image data shape = (32, 32, 3)\n",
      "Number of classes = 4\n"
     ]
    }
   ],
   "source": [
    "#Number of training examples\n",
    "n_train = len(X_train)\n",
    "\n",
    "#Number of testing examples.\n",
    "n_test = len(X_test)\n",
    "\n",
    "#the shape of an traffic sign image\n",
    "image_shape = X_train[0].shape\n",
    "\n",
    "#How many unique classes/labels there are in the dataset.\n",
    "n_classes = len(train)\n",
    "\n",
    "print(\"Number of training examples =\", n_train)\n",
    "print(\"Number of testing examples =\", n_test)\n",
    "print(\"Image data shape =\", image_shape)\n",
    "print(\"Number of classes =\", n_classes)"
   ]
  },
  {
   "cell_type": "code",
   "execution_count": 8,
   "metadata": {
    "collapsed": false
   },
   "outputs": [
    {
     "name": "stdout",
     "output_type": "stream",
     "text": [
      "image index 25 --image name-- Road work\n"
     ]
    },
    {
     "data": {
      "image/png": "[encoded data removed]",
      "text/plain": [
       "<matplotlib.figure.Figure at 0x7feba0c58198>"
      ]
     },
     "metadata": {},
     "output_type": "display_data"
    }
   ],
   "source": [
    "# Visualizations will be shown in the notebook.\n",
    "index = random.randint(0, n_train)\n",
    "image = X_train[index].squeeze()\n",
    "\n",
    "signnames=pd.DataFrame(pd.read_csv(\"signnames.csv\"))\n",
    "#in order to show these, the switch values must be 1 in the first cell.\n",
    "if debug_prt:\n",
    "    print('image index', y_train[index], '--image name--', signnames.loc[y_train[index]]['SignName'])\n",
    "\n",
    "if image_show:\n",
    "    plt.figure(figsize=(1,1))\n",
    "    plt.imshow(image, cmap=\"gray\")"
   ]
  },
  {
   "cell_type": "code",
   "execution_count": 9,
   "metadata": {
    "collapsed": false
   },
   "outputs": [
    {
     "data": {
      "image/png": "[encoded data removed]",
      "text/plain": [
       "<matplotlib.figure.Figure at 0x7feba0c0ea20>"
      ]
     },
     "metadata": {},
     "output_type": "display_data"
    }
   ],
   "source": [
    "#RGB to Gray conversions\n",
    "X_train=rgb2gray(X_train)\n",
    "X_valid=rgb2gray(X_valid)\n",
    "X_test=rgb2gray(X_test)\n",
    "if image_show:\n",
    "    plt.figure(figsize=(1,1))\n",
    "    plt.imshow(image)\n",
    "    \n",
    "#shuffle image so it will get different sequence for training     \n",
    "X_train, y_train = shuffle(X_train, y_train)\n",
    "\n"
   ]
  },
  {
   "cell_type": "code",
   "execution_count": 10,
   "metadata": {
    "collapsed": false
   },
   "outputs": [
    {
     "data": {
      "image/png": "[encoded data removed]",
      "text/plain": [
       "<matplotlib.figure.Figure at 0x7feba0b60080>"
      ]
     },
     "metadata": {},
     "output_type": "display_data"
    }
   ],
   "source": [
    "#data det analysis\n",
    "n_signs=len(signnames)\n",
    "\n",
    "count_train=np.zeros((n_signs,1))\n",
    "count_test=np.zeros((n_signs,1))\n",
    "\n",
    "for i in range(n_train):\n",
    "    count_train[y_train[i]]+=1\n",
    "\n",
    "for i in range(n_test):\n",
    "    count_test[y_test[i]]+=1\n",
    "    \n",
    "width=0.75\n",
    "\n",
    "p1 = plt.bar(range(n_signs), count_train, width, color='blue') \n",
    "p2 = plt.bar(range(n_signs), count_test, width, bottom=count_train, color='red')\n",
    "plt.ylabel('Number of images')\n",
    "plt.title('Histogram of signs in training and testing sets')\n",
    "plt.xticks(range(n_signs))\n",
    "plt.legend((p1[0], p2[0]), ('training', 'testing'))\n",
    "plt.show()"
   ]
  },
  {
   "cell_type": "code",
   "execution_count": 11,
   "metadata": {
    "collapsed": false
   },
   "outputs": [
    {
     "name": "stdout",
     "output_type": "stream",
     "text": [
      "learning rate 0.001 Epoch 20 Batch Size 128\n"
     ]
    }
   ],
   "source": [
    "# setup the training parameters\n",
    "#original rate = 0.001 \n",
    "rate=0.001\n",
    "EPOCHS = 20\n",
    "BATCH_SIZE = 128\n",
    "print('learning rate', rate, 'Epoch', EPOCHS, 'Batch Size', BATCH_SIZE)\n",
    "\n",
    "# setup tensors to be feed at each epoch\n",
    "x = tf.placeholder(tf.float32, (None, 32, 32, 1))\n",
    "y = tf.placeholder(tf.int32, (None))\n",
    "one_hot_y = tf.one_hot(y,43)\n",
    "\n",
    "### Train your model here.\n",
    "#set up the system\n",
    "logits = LeNet(x)\n",
    "cross_entropy = tf.nn.softmax_cross_entropy_with_logits(logits=logits, labels=one_hot_y)\n",
    "loss_operation = tf.reduce_mean(cross_entropy)\n",
    "optimizer = tf.train.AdamOptimizer(learning_rate = rate)\n",
    "training_operation = optimizer.minimize(loss_operation)\n",
    "\n",
    "#Evaluate how well the loss and accuracy of the model for a given dataset.\n",
    "correct_prediction = tf.equal(tf.argmax(logits, 1), tf.argmax(one_hot_y, 1))\n",
    "accuracy_operation = tf.reduce_mean(tf.cast(correct_prediction, tf.float32))\n",
    "saver = tf.train.Saver()\n",
    "\n"
   ]
  },
  {
   "cell_type": "code",
   "execution_count": 12,
   "metadata": {
    "collapsed": false,
    "scrolled": true
   },
   "outputs": [
    {
     "name": "stdout",
     "output_type": "stream",
     "text": [
      "Training...\n",
      "\n",
      "EPOCH 1 ...\n",
      "Validation Accuracy = 0.897\n",
      "\n",
      "EPOCH 2 ...\n",
      "Validation Accuracy = 0.931\n",
      "\n",
      "EPOCH 3 ...\n",
      "Validation Accuracy = 0.955\n",
      "\n",
      "EPOCH 4 ...\n",
      "Validation Accuracy = 0.933\n",
      "\n",
      "EPOCH 5 ...\n",
      "Validation Accuracy = 0.942\n",
      "\n",
      "EPOCH 6 ...\n",
      "Validation Accuracy = 0.922\n",
      "\n",
      "EPOCH 7 ...\n",
      "Validation Accuracy = 0.956\n",
      "\n",
      "EPOCH 8 ...\n",
      "Validation Accuracy = 0.956\n",
      "\n",
      "EPOCH 9 ...\n",
      "Validation Accuracy = 0.954\n",
      "\n",
      "EPOCH 10 ...\n",
      "Validation Accuracy = 0.941\n",
      "\n",
      "EPOCH 11 ...\n",
      "Validation Accuracy = 0.937\n",
      "\n",
      "EPOCH 12 ...\n",
      "Validation Accuracy = 0.929\n",
      "\n",
      "EPOCH 13 ...\n",
      "Validation Accuracy = 0.942\n",
      "\n",
      "EPOCH 14 ...\n",
      "Validation Accuracy = 0.917\n",
      "\n",
      "EPOCH 15 ...\n",
      "Validation Accuracy = 0.947\n",
      "\n",
      "EPOCH 16 ...\n",
      "Validation Accuracy = 0.953\n",
      "\n",
      "EPOCH 17 ...\n",
      "Validation Accuracy = 0.945\n",
      "\n",
      "EPOCH 18 ...\n",
      "Validation Accuracy = 0.940\n",
      "\n",
      "EPOCH 19 ...\n",
      "Validation Accuracy = 0.946\n",
      "\n",
      "EPOCH 20 ...\n",
      "Validation Accuracy = 0.944\n",
      "\n",
      "Model saved\n"
     ]
    }
   ],
   "source": [
    "### Calculate and report the accuracy on the training and validation set.\n",
    "### Once a final model architecture is selected, \n",
    "### the accuracy on the test set should be calculated and reported as well.\n",
    "with tf.Session() as sess:\n",
    "    sess.run(tf.global_variables_initializer())\n",
    "    num_examples = len(X_train)\n",
    "    \n",
    "    print(\"Training...\")\n",
    "    print()\n",
    "    for i in range(EPOCHS):\n",
    "        X_train, y_train = shuffle(X_train, y_train)\n",
    "        for offset in range(0, num_examples, BATCH_SIZE):\n",
    "            end = offset + BATCH_SIZE\n",
    "            batch_x, batch_y = X_train[offset:end], y_train[offset:end]\n",
    "            sess.run(training_operation, feed_dict={x: batch_x, y: batch_y})\n",
    "            \n",
    "        validation_accuracy = evaluate(X_valid, y_valid)\n",
    "        print(\"EPOCH {} ...\".format(i+1))\n",
    "        print(\"Validation Accuracy = {:.3f}\".format(validation_accuracy))\n",
    "        print()\n",
    "        \n",
    "    saver.save(sess, './lenet')\n",
    "    print(\"Model saved\")"
   ]
  },
  {
   "cell_type": "code",
   "execution_count": 13,
   "metadata": {
    "collapsed": false
   },
   "outputs": [
    {
     "name": "stdout",
     "output_type": "stream",
     "text": [
      "Test Accuracy = 0.938\n"
     ]
    }
   ],
   "source": [
    "#test accucary\n",
    "\n",
    "with tf.Session() as sess:\n",
    "    saver.restore(sess, tf.train.latest_checkpoint('.'))\n",
    "\n",
    "    test_accuracy = evaluate(X_test, y_test)\n",
    "    print(\"Test Accuracy = {:.3f}\".format(test_accuracy))"
   ]
  },
  {
   "cell_type": "code",
   "execution_count": 14,
   "metadata": {
    "collapsed": false
   },
   "outputs": [
    {
     "name": "stdout",
     "output_type": "stream",
     "text": [
      "Internet Road Sign Accuracy = 1.000\n"
     ]
    }
   ],
   "source": [
    "#internet road signs\n",
    "import matplotlib.image as mpimg\n",
    "\n",
    "image0 = mpimg.imread('roadsigns/noentry_32.jpg')\n",
    "image1 = mpimg.imread('roadsigns/nopedestrian_32.jpg')\n",
    "image2 = mpimg.imread('roadsigns/speedlimit30_32.jpg')\n",
    "image3 = mpimg.imread('roadsigns/stop_32.jpg')\n",
    "image4 = mpimg.imread('roadsigns/yield_32.jpg')\n",
    "image_labels=[17,27,1,14,13]\n",
    "\n",
    "x_image=np.zeros((5,32,32,3))\n",
    "\n",
    "x_image[0,:,:,:]=image0\n",
    "x_image[1,:,:,:]=image1\n",
    "x_image[2,:,:,:]=image2\n",
    "x_image[3,:,:,:]=image3\n",
    "x_image[4,:,:,:]=image4\n",
    "\n",
    "x_image=rgb2gray(x_image)\n",
    "\n",
    "#run with the trained session\n",
    "with tf.Session() as sess:\n",
    "    saver.restore(sess, tf.train.latest_checkpoint('.'))\n",
    "\n",
    "    test_accuracy = evaluate(x_image, image_labels)\n",
    "    print(\"Internet Road Sign Accuracy = {:.3f}\".format(test_accuracy))\n"
   ]
  },
  {
   "cell_type": "code",
   "execution_count": 16,
   "metadata": {
    "collapsed": false
   },
   "outputs": [
    {
     "data": {
      "image/png": "[encoded data removed]",
      "text/plain": [
       "<matplotlib.figure.Figure at 0x7feba0b721d0>"
      ]
     },
     "metadata": {},
     "output_type": "display_data"
    },
    {
     "name": "stdout",
     "output_type": "stream",
     "text": [
      "Probabilities and prediction from this 17 correct label 17\n"
     ]
    },
    {
     "data": {
      "image/png": "[encoded data removed]",
      "text/plain": [
       "<matplotlib.figure.Figure at 0x7feba0279a90>"
      ]
     },
     "metadata": {},
     "output_type": "display_data"
    },
    {
     "name": "stdout",
     "output_type": "stream",
     "text": [
      "Probabilities and prediction from this 27 correct label 27\n"
     ]
    },
    {
     "data": {
      "image/png": "[encoded data removed]",
      "text/plain": [
       "<matplotlib.figure.Figure at 0x7feba058ecf8>"
      ]
     },
     "metadata": {},
     "output_type": "display_data"
    },
    {
     "name": "stdout",
     "output_type": "stream",
     "text": [
      "Probabilities and prediction from this 1 correct label 1\n"
     ]
    },
    {
     "data": {
      "image/png": "[encoded data removed]",
      "text/plain": [
       "<matplotlib.figure.Figure at 0x7feba013f8d0>"
      ]
     },
     "metadata": {},
     "output_type": "display_data"
    },
    {
     "name": "stdout",
     "output_type": "stream",
     "text": [
      "Probabilities and prediction from this 14 correct label 14\n"
     ]
    },
    {
     "data": {
      "image/png": "[encoded data removed]",
      "text/plain": [
       "<matplotlib.figure.Figure at 0x7feba0485a20>"
      ]
     },
     "metadata": {},
     "output_type": "display_data"
    },
    {
     "name": "stdout",
     "output_type": "stream",
     "text": [
      "Probabilities and prediction from this 13 correct label 13\n"
     ]
    }
   ],
   "source": [
    "#investigation of the model with new images\n",
    "def getpredict(X_data, y_data):\n",
    "    sess = tf.get_default_session()\n",
    "    predictions = sess.run(logits, feed_dict={x: X_data, y: y_data})\n",
    "        \n",
    "    return predictions\n",
    "\n",
    "\n",
    "with tf.Session() as sess:\n",
    "    saver.restore(sess, tf.train.latest_checkpoint('.'))\n",
    "    predicts = getpredict(x_image, image_labels)   \n",
    "\n",
    "for i in range(len(predicts)):\n",
    "    plt.figure(i)\n",
    "    dummy=softmax(predicts[i,:])\n",
    "    plt.bar(range(43), dummy, width=0.8, color='blue')\n",
    "    plt.ylabel('Probabilities')\n",
    "    plt.xticks(range(43))\n",
    "    plt.show()\n",
    "    print('Probabilities and prediction from this', dummy.argmax(), 'correct label', image_labels[i])\n",
    "    "
   ]
  }
 ],
 "metadata": {
  "anaconda-cloud": {},
  "kernelspec": {
   "display_name": "Python [conda env:carnd-term1]",
   "language": "python",
   "name": "conda-env-carnd-term1-py"
  },
  "language_info": {
   "codemirror_mode": {
    "name": "ipython",
    "version": 3
   },
   "file_extension": ".py",
   "mimetype": "text/x-python",
   "name": "python",
   "nbconvert_exporter": "python",
   "pygments_lexer": "ipython3",
   "version": "3.5.2"
  }
 },
 "nbformat": 4,
 "nbformat_minor": 1
}
